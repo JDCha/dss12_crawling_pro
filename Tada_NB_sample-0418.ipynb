{
 "cells": [
  {
   "cell_type": "code",
   "execution_count": 2,
   "metadata": {},
   "outputs": [],
   "source": [
    "import numpy as np\n",
    "import pandas as pd\n",
    "import pickle\n",
    "from sklearn.feature_extraction.text import TfidfVectorizer\n",
    "from sklearn.model_selection import train_test_split\n",
    "from sklearn.naive_bayes import MultinomialNB\n",
    "from sklearn.pipeline import Pipeline\n",
    "from sklearn.metrics import classification_report"
   ]
  },
  {
   "cell_type": "code",
   "execution_count": 5,
   "metadata": {},
   "outputs": [
    {
     "data": {
      "text/plain": [
       "1056"
      ]
     },
     "execution_count": 5,
     "metadata": {},
     "output_type": "execute_result"
    }
   ],
   "source": [
    "# 데이터 로드\n",
    "article_df = pd.read_csv(\"sample_0418.csv\")\n",
    "len(article_df)"
   ]
  },
  {
   "cell_type": "code",
   "execution_count": 6,
   "metadata": {},
   "outputs": [
    {
     "name": "stdout",
     "output_type": "stream",
     "text": [
      "<class 'pandas.core.frame.DataFrame'>\n",
      "RangeIndex: 1056 entries, 0 to 1055\n",
      "Data columns (total 7 columns):\n",
      " #   Column      Non-Null Count  Dtype \n",
      "---  ------      --------------  ----- \n",
      " 0   _id         1056 non-null   object\n",
      " 1   title       1056 non-null   object\n",
      " 2   date        1056 non-null   object\n",
      " 3   youtube_id  1045 non-null   object\n",
      " 4   comment     1056 non-null   object\n",
      " 5   like_num    1056 non-null   object\n",
      " 6   class       1056 non-null   int64 \n",
      "dtypes: int64(1), object(6)\n",
      "memory usage: 57.9+ KB\n"
     ]
    }
   ],
   "source": [
    "article_df.info()"
   ]
  },
  {
   "cell_type": "code",
   "execution_count": 7,
   "metadata": {},
   "outputs": [
    {
     "data": {
      "text/plain": [
       "(950, 106, 950, 106)"
      ]
     },
     "execution_count": 7,
     "metadata": {},
     "output_type": "execute_result"
    }
   ],
   "source": [
    "# 데이터 전처리 : 데이터 셋 분리\n",
    "X_train, X_test, y_train, y_test = train_test_split(\n",
    "article_df.comment, article_df['class'], test_size=0.1, random_state=1)\n",
    "len(X_train), len(X_test), len(y_train), len(y_test)"
   ]
  },
  {
   "cell_type": "code",
   "execution_count": 8,
   "metadata": {},
   "outputs": [],
   "source": [
    "# 모델 만들기\n",
    "clf = Pipeline([\n",
    "    ('vect', TfidfVectorizer()),\n",
    "    ('clf', MultinomialNB(alpha=0.1)),\n",
    "])"
   ]
  },
  {
   "cell_type": "code",
   "execution_count": 9,
   "metadata": {},
   "outputs": [],
   "source": [
    "# 학습\n",
    "model = clf.fit(X_train.values.astype(\"str\"), y_train)"
   ]
  },
  {
   "cell_type": "code",
   "execution_count": 10,
   "metadata": {},
   "outputs": [],
   "source": [
    "# 모델 성능 확인\n",
    "y_pred = model.predict(X_test)"
   ]
  },
  {
   "cell_type": "code",
   "execution_count": 11,
   "metadata": {},
   "outputs": [
    {
     "data": {
      "text/plain": [
       "([1, 2, 2, 1, 1], [1, 3, 2, 1, 1])"
      ]
     },
     "execution_count": 11,
     "metadata": {},
     "output_type": "execute_result"
    }
   ],
   "source": [
    "list(y_test[:5]), list(y_pred[:5])"
   ]
  },
  {
   "cell_type": "code",
   "execution_count": 12,
   "metadata": {},
   "outputs": [
    {
     "name": "stdout",
     "output_type": "stream",
     "text": [
      "             precision    recall  f1-score   support\n",
      "\n",
      "          1       0.72      0.68      0.70        34\n",
      "          2       0.70      0.76      0.73        49\n",
      "          3       0.48      0.43      0.45        23\n",
      "\n",
      "avg / total       0.66      0.66      0.66       106\n",
      "\n"
     ]
    }
   ],
   "source": [
    "print(classification_report(y_test, y_pred))"
   ]
  },
  {
   "cell_type": "markdown",
   "metadata": {},
   "source": [
    "#### 모델 사용하기"
   ]
  },
  {
   "cell_type": "code",
   "execution_count": 38,
   "metadata": {},
   "outputs": [],
   "source": [
    "categories = {\n",
    "    1: \"택시\",\n",
    "    2: \"타다\",\n",
    "    3: \"미분류\",\n",
    "\n",
    "}"
   ]
  },
  {
   "cell_type": "code",
   "execution_count": 39,
   "metadata": {},
   "outputs": [],
   "source": [
    "test = pd.read_csv('test_comment.csv')\n",
    "#test_list = test.tolist()"
   ]
  },
  {
   "cell_type": "code",
   "execution_count": 40,
   "metadata": {},
   "outputs": [],
   "source": [
    "contents = [\n",
    "    \"당연하지 타다는 불법이다\",\n",
    "    \"공수처법때 문희상 보고 국민들 맘이 어땟는지 이제 알겠냐?\",\n",
    "    \"타다는 나중에 딱지값 챙기려 한 사업이다..1500대면 대당 1억만 되도 1500억 이네..ㅎㅎ\",\n",
    "    \"이재웅구속! 불법운송수익금 환수!\",\n",
    "    \"타다영업하고싶으면제도권안으로들어와서영업해라.법도무시하고하고싶은대로하면이게나라냐?정하고싶으면다음팔은돈7천억풀어서영업해라\",\n",
    "    \"대통령은 왜 이재웅같은 엉터리 나라시업주를 키우려 하십니까? 정말 이해가 안됩니다\",\n",
    "    \"타다가 카택처럼 운영하면 되는거 아님? 카택도 한건데 타다는 왜? 못함?\",\n",
    "    \"최소한 국민의 안전을 위해서라도 운송영업 면허가 있어야지. 어느나라가 무면허로 운송사업을 허가해주나.\",\n",
    "    \"개택 해봤자 3명밖에 못 타고 타다는 15인까지 가능한데 효율면에선 타다가 나은것 같은데... 개택분들한테 묻고 싶다. 10 명 정도 단체 여행가는데 개택 이용해서 이동할지 타다이용해서 이동할지...\",\n",
    "    \"법의테두리 안에서 장사해라~혁신은 이런데 쓰는게 아닙니다~개나소나 타다하면 법의질서가 필요할까요\",\n",
    "    \"표얻을라고 여야가 지들 잘한거 어필하겠지 택시기사들아 우리들 뽑아줘!!!\",\n",
    "    \"대중의 안전과 교통의 체계를 중요하게 생각해서 만들어진게 지금의 택시라고? 끝까지 자기들 부족한건 생각못하지.\",\n",
    "    \"택시 로 취업하세요 ~~!\"\n",
    "    \n",
    "]"
   ]
  },
  {
   "cell_type": "code",
   "execution_count": 41,
   "metadata": {},
   "outputs": [
    {
     "data": {
      "text/html": [
       "<div>\n",
       "<style scoped>\n",
       "    .dataframe tbody tr th:only-of-type {\n",
       "        vertical-align: middle;\n",
       "    }\n",
       "\n",
       "    .dataframe tbody tr th {\n",
       "        vertical-align: top;\n",
       "    }\n",
       "\n",
       "    .dataframe thead th {\n",
       "        text-align: right;\n",
       "    }\n",
       "</style>\n",
       "<table border=\"1\" class=\"dataframe\">\n",
       "  <thead>\n",
       "    <tr style=\"text-align: right;\">\n",
       "      <th></th>\n",
       "      <th>content</th>\n",
       "      <th>category_code</th>\n",
       "    </tr>\n",
       "  </thead>\n",
       "  <tbody>\n",
       "    <tr>\n",
       "      <th>0</th>\n",
       "      <td>당연하지 타다는 불법이다</td>\n",
       "      <td>2</td>\n",
       "    </tr>\n",
       "    <tr>\n",
       "      <th>1</th>\n",
       "      <td>공수처법때 문희상 보고 국민들 맘이 어땟는지 이제 알겠냐?</td>\n",
       "      <td>1</td>\n",
       "    </tr>\n",
       "    <tr>\n",
       "      <th>2</th>\n",
       "      <td>타다는 나중에 딱지값 챙기려 한 사업이다..1500대면 대당 1억만 되도 1500억...</td>\n",
       "      <td>2</td>\n",
       "    </tr>\n",
       "    <tr>\n",
       "      <th>3</th>\n",
       "      <td>이재웅구속! 불법운송수익금 환수!</td>\n",
       "      <td>2</td>\n",
       "    </tr>\n",
       "    <tr>\n",
       "      <th>4</th>\n",
       "      <td>타다영업하고싶으면제도권안으로들어와서영업해라.법도무시하고하고싶은대로하면이게나라냐?정하...</td>\n",
       "      <td>2</td>\n",
       "    </tr>\n",
       "    <tr>\n",
       "      <th>5</th>\n",
       "      <td>대통령은 왜 이재웅같은 엉터리 나라시업주를 키우려 하십니까? 정말 이해가 안됩니다</td>\n",
       "      <td>3</td>\n",
       "    </tr>\n",
       "    <tr>\n",
       "      <th>6</th>\n",
       "      <td>타다가 카택처럼 운영하면 되는거 아님? 카택도 한건데 타다는 왜? 못함?</td>\n",
       "      <td>2</td>\n",
       "    </tr>\n",
       "    <tr>\n",
       "      <th>7</th>\n",
       "      <td>최소한 국민의 안전을 위해서라도 운송영업 면허가 있어야지. 어느나라가 무면허로 운송...</td>\n",
       "      <td>2</td>\n",
       "    </tr>\n",
       "    <tr>\n",
       "      <th>8</th>\n",
       "      <td>개택 해봤자 3명밖에 못 타고 타다는 15인까지 가능한데 효율면에선 타다가 나은것 ...</td>\n",
       "      <td>1</td>\n",
       "    </tr>\n",
       "    <tr>\n",
       "      <th>9</th>\n",
       "      <td>법의테두리 안에서 장사해라~혁신은 이런데 쓰는게 아닙니다~개나소나 타다하면 법의질서...</td>\n",
       "      <td>2</td>\n",
       "    </tr>\n",
       "    <tr>\n",
       "      <th>10</th>\n",
       "      <td>표얻을라고 여야가 지들 잘한거 어필하겠지 택시기사들아 우리들 뽑아줘!!!</td>\n",
       "      <td>1</td>\n",
       "    </tr>\n",
       "    <tr>\n",
       "      <th>11</th>\n",
       "      <td>대중의 안전과 교통의 체계를 중요하게 생각해서 만들어진게 지금의 택시라고? 끝까지 ...</td>\n",
       "      <td>2</td>\n",
       "    </tr>\n",
       "    <tr>\n",
       "      <th>12</th>\n",
       "      <td>택시 로 취업하세요 ~~!</td>\n",
       "      <td>2</td>\n",
       "    </tr>\n",
       "  </tbody>\n",
       "</table>\n",
       "</div>"
      ],
      "text/plain": [
       "                                              content  category_code\n",
       "0                                       당연하지 타다는 불법이다              2\n",
       "1                    공수처법때 문희상 보고 국민들 맘이 어땟는지 이제 알겠냐?              1\n",
       "2   타다는 나중에 딱지값 챙기려 한 사업이다..1500대면 대당 1억만 되도 1500억...              2\n",
       "3                                  이재웅구속! 불법운송수익금 환수!              2\n",
       "4   타다영업하고싶으면제도권안으로들어와서영업해라.법도무시하고하고싶은대로하면이게나라냐?정하...              2\n",
       "5       대통령은 왜 이재웅같은 엉터리 나라시업주를 키우려 하십니까? 정말 이해가 안됩니다              3\n",
       "6            타다가 카택처럼 운영하면 되는거 아님? 카택도 한건데 타다는 왜? 못함?              2\n",
       "7   최소한 국민의 안전을 위해서라도 운송영업 면허가 있어야지. 어느나라가 무면허로 운송...              2\n",
       "8   개택 해봤자 3명밖에 못 타고 타다는 15인까지 가능한데 효율면에선 타다가 나은것 ...              1\n",
       "9   법의테두리 안에서 장사해라~혁신은 이런데 쓰는게 아닙니다~개나소나 타다하면 법의질서...              2\n",
       "10           표얻을라고 여야가 지들 잘한거 어필하겠지 택시기사들아 우리들 뽑아줘!!!              1\n",
       "11  대중의 안전과 교통의 체계를 중요하게 생각해서 만들어진게 지금의 택시라고? 끝까지 ...              2\n",
       "12                                     택시 로 취업하세요 ~~!              2"
      ]
     },
     "execution_count": 41,
     "metadata": {},
     "output_type": "execute_result"
    }
   ],
   "source": [
    "datas = {\n",
    "    \"content\": contents,\n",
    "    \"category_code\": model.predict(contents),\n",
    "}\n",
    "df = pd.DataFrame(datas)\n",
    "df"
   ]
  },
  {
   "cell_type": "code",
   "execution_count": 42,
   "metadata": {},
   "outputs": [
    {
     "data": {
      "text/plain": [
       "0.66"
      ]
     },
     "execution_count": 42,
     "metadata": {},
     "output_type": "execute_result"
    }
   ],
   "source": [
    "round(max(model.predict_proba([contents[0]])[0]), 2)"
   ]
  },
  {
   "cell_type": "code",
   "execution_count": 43,
   "metadata": {},
   "outputs": [
    {
     "data": {
      "text/html": [
       "<div>\n",
       "<style scoped>\n",
       "    .dataframe tbody tr th:only-of-type {\n",
       "        vertical-align: middle;\n",
       "    }\n",
       "\n",
       "    .dataframe tbody tr th {\n",
       "        vertical-align: top;\n",
       "    }\n",
       "\n",
       "    .dataframe thead th {\n",
       "        text-align: right;\n",
       "    }\n",
       "</style>\n",
       "<table border=\"1\" class=\"dataframe\">\n",
       "  <thead>\n",
       "    <tr style=\"text-align: right;\">\n",
       "      <th></th>\n",
       "      <th>content</th>\n",
       "      <th>category_code</th>\n",
       "      <th>category</th>\n",
       "      <th>proba</th>\n",
       "    </tr>\n",
       "  </thead>\n",
       "  <tbody>\n",
       "    <tr>\n",
       "      <th>0</th>\n",
       "      <td>당연하지 타다는 불법이다</td>\n",
       "      <td>2</td>\n",
       "      <td>타다</td>\n",
       "      <td>0.66</td>\n",
       "    </tr>\n",
       "    <tr>\n",
       "      <th>1</th>\n",
       "      <td>공수처법때 문희상 보고 국민들 맘이 어땟는지 이제 알겠냐?</td>\n",
       "      <td>1</td>\n",
       "      <td>택시</td>\n",
       "      <td>0.90</td>\n",
       "    </tr>\n",
       "    <tr>\n",
       "      <th>2</th>\n",
       "      <td>타다는 나중에 딱지값 챙기려 한 사업이다..1500대면 대당 1억만 되도 1500억...</td>\n",
       "      <td>2</td>\n",
       "      <td>타다</td>\n",
       "      <td>0.97</td>\n",
       "    </tr>\n",
       "    <tr>\n",
       "      <th>3</th>\n",
       "      <td>이재웅구속! 불법운송수익금 환수!</td>\n",
       "      <td>2</td>\n",
       "      <td>타다</td>\n",
       "      <td>0.94</td>\n",
       "    </tr>\n",
       "    <tr>\n",
       "      <th>4</th>\n",
       "      <td>타다영업하고싶으면제도권안으로들어와서영업해라.법도무시하고하고싶은대로하면이게나라냐?정하...</td>\n",
       "      <td>2</td>\n",
       "      <td>타다</td>\n",
       "      <td>0.92</td>\n",
       "    </tr>\n",
       "    <tr>\n",
       "      <th>5</th>\n",
       "      <td>대통령은 왜 이재웅같은 엉터리 나라시업주를 키우려 하십니까? 정말 이해가 안됩니다</td>\n",
       "      <td>3</td>\n",
       "      <td>미분류</td>\n",
       "      <td>0.95</td>\n",
       "    </tr>\n",
       "    <tr>\n",
       "      <th>6</th>\n",
       "      <td>타다가 카택처럼 운영하면 되는거 아님? 카택도 한건데 타다는 왜? 못함?</td>\n",
       "      <td>2</td>\n",
       "      <td>타다</td>\n",
       "      <td>0.94</td>\n",
       "    </tr>\n",
       "    <tr>\n",
       "      <th>7</th>\n",
       "      <td>최소한 국민의 안전을 위해서라도 운송영업 면허가 있어야지. 어느나라가 무면허로 운송...</td>\n",
       "      <td>2</td>\n",
       "      <td>타다</td>\n",
       "      <td>0.95</td>\n",
       "    </tr>\n",
       "    <tr>\n",
       "      <th>8</th>\n",
       "      <td>개택 해봤자 3명밖에 못 타고 타다는 15인까지 가능한데 효율면에선 타다가 나은것 ...</td>\n",
       "      <td>1</td>\n",
       "      <td>택시</td>\n",
       "      <td>0.98</td>\n",
       "    </tr>\n",
       "    <tr>\n",
       "      <th>9</th>\n",
       "      <td>법의테두리 안에서 장사해라~혁신은 이런데 쓰는게 아닙니다~개나소나 타다하면 법의질서...</td>\n",
       "      <td>2</td>\n",
       "      <td>타다</td>\n",
       "      <td>0.93</td>\n",
       "    </tr>\n",
       "    <tr>\n",
       "      <th>10</th>\n",
       "      <td>표얻을라고 여야가 지들 잘한거 어필하겠지 택시기사들아 우리들 뽑아줘!!!</td>\n",
       "      <td>1</td>\n",
       "      <td>택시</td>\n",
       "      <td>0.95</td>\n",
       "    </tr>\n",
       "    <tr>\n",
       "      <th>11</th>\n",
       "      <td>대중의 안전과 교통의 체계를 중요하게 생각해서 만들어진게 지금의 택시라고? 끝까지 ...</td>\n",
       "      <td>2</td>\n",
       "      <td>타다</td>\n",
       "      <td>0.81</td>\n",
       "    </tr>\n",
       "    <tr>\n",
       "      <th>12</th>\n",
       "      <td>택시 로 취업하세요 ~~!</td>\n",
       "      <td>2</td>\n",
       "      <td>타다</td>\n",
       "      <td>0.84</td>\n",
       "    </tr>\n",
       "  </tbody>\n",
       "</table>\n",
       "</div>"
      ],
      "text/plain": [
       "                                              content  category_code category  \\\n",
       "0                                       당연하지 타다는 불법이다              2       타다   \n",
       "1                    공수처법때 문희상 보고 국민들 맘이 어땟는지 이제 알겠냐?              1       택시   \n",
       "2   타다는 나중에 딱지값 챙기려 한 사업이다..1500대면 대당 1억만 되도 1500억...              2       타다   \n",
       "3                                  이재웅구속! 불법운송수익금 환수!              2       타다   \n",
       "4   타다영업하고싶으면제도권안으로들어와서영업해라.법도무시하고하고싶은대로하면이게나라냐?정하...              2       타다   \n",
       "5       대통령은 왜 이재웅같은 엉터리 나라시업주를 키우려 하십니까? 정말 이해가 안됩니다              3      미분류   \n",
       "6            타다가 카택처럼 운영하면 되는거 아님? 카택도 한건데 타다는 왜? 못함?              2       타다   \n",
       "7   최소한 국민의 안전을 위해서라도 운송영업 면허가 있어야지. 어느나라가 무면허로 운송...              2       타다   \n",
       "8   개택 해봤자 3명밖에 못 타고 타다는 15인까지 가능한데 효율면에선 타다가 나은것 ...              1       택시   \n",
       "9   법의테두리 안에서 장사해라~혁신은 이런데 쓰는게 아닙니다~개나소나 타다하면 법의질서...              2       타다   \n",
       "10           표얻을라고 여야가 지들 잘한거 어필하겠지 택시기사들아 우리들 뽑아줘!!!              1       택시   \n",
       "11  대중의 안전과 교통의 체계를 중요하게 생각해서 만들어진게 지금의 택시라고? 끝까지 ...              2       타다   \n",
       "12                                     택시 로 취업하세요 ~~!              2       타다   \n",
       "\n",
       "    proba  \n",
       "0    0.66  \n",
       "1    0.90  \n",
       "2    0.97  \n",
       "3    0.94  \n",
       "4    0.92  \n",
       "5    0.95  \n",
       "6    0.94  \n",
       "7    0.95  \n",
       "8    0.98  \n",
       "9    0.93  \n",
       "10   0.95  \n",
       "11   0.81  \n",
       "12   0.84  "
      ]
     },
     "execution_count": 43,
     "metadata": {},
     "output_type": "execute_result"
    }
   ],
   "source": [
    "df[\"category\"] = df[\"category_code\"].apply(lambda data: categories[data])\n",
    "df[\"proba\"] = df[\"content\"].apply(\n",
    "    lambda data: round(max(model.predict_proba([data])[0]), 2) )\n",
    "df"
   ]
  },
  {
   "cell_type": "code",
   "execution_count": 18,
   "metadata": {},
   "outputs": [],
   "source": [
    "# 모델 저장"
   ]
  },
  {
   "cell_type": "code",
   "execution_count": 44,
   "metadata": {},
   "outputs": [],
   "source": [
    "pickle.dump(model, open(\"clf.pkl\", \"wb\"))"
   ]
  },
  {
   "cell_type": "code",
   "execution_count": null,
   "metadata": {},
   "outputs": [],
   "source": []
  },
  {
   "cell_type": "code",
   "execution_count": null,
   "metadata": {},
   "outputs": [],
   "source": []
  },
  {
   "cell_type": "code",
   "execution_count": null,
   "metadata": {},
   "outputs": [],
   "source": []
  },
  {
   "cell_type": "code",
   "execution_count": null,
   "metadata": {},
   "outputs": [],
   "source": []
  },
  {
   "cell_type": "code",
   "execution_count": null,
   "metadata": {},
   "outputs": [],
   "source": []
  },
  {
   "cell_type": "code",
   "execution_count": null,
   "metadata": {},
   "outputs": [],
   "source": []
  }
 ],
 "metadata": {
  "kernelspec": {
   "display_name": "Python 3",
   "language": "python",
   "name": "python3"
  },
  "language_info": {
   "codemirror_mode": {
    "name": "ipython",
    "version": 3
   },
   "file_extension": ".py",
   "mimetype": "text/x-python",
   "name": "python",
   "nbconvert_exporter": "python",
   "pygments_lexer": "ipython3",
   "version": "3.6.5"
  }
 },
 "nbformat": 4,
 "nbformat_minor": 2
}
